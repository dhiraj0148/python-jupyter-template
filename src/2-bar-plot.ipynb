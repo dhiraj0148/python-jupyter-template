{
 "cells": [
  {
   "cell_type": "markdown",
   "metadata": {},
   "source": [
    "### Exercise 2: Bar Plot with Colors"
   ]
  },
  {
   "cell_type": "code",
   "execution_count": null,
   "metadata": {},
   "outputs": [],
   "source": [
    "# TASK: Create a bar plot with the following data: categories = ['A', 'B', 'C', 'D'] and values = [5, 7, 3, 9].\n",
    "# Use different colors for each bar and add a title to the plot.\n",
    "\n",
    "import matplotlib.pyplot as plt\n",
    "\n",
    "categories = ['A', 'B', 'C', 'D']\n",
    "values = [5, 7, 3, 9]\n",
    "colors = ['red', 'blue', 'green', 'orange'] \n",
    "\n",
    "plt.bar(categories, values, color=colors)\n",
    "\n",
    "plt.title('Bar Plot')\n",
    "\n",
    "plt.show()\n"
   ]
  }
 ],
 "metadata": {
  "kernelspec": {
   "display_name": "Python 3",
   "language": "python",
   "name": "python3"
  },
  "language_info": {
   "codemirror_mode": {
    "name": "ipython",
    "version": 3
   },
   "file_extension": ".py",
   "mimetype": "text/x-python",
   "name": "python",
   "nbconvert_exporter": "python",
   "pygments_lexer": "ipython3",
   "version": "3.10.12"
  }
 },
 "nbformat": 4,
 "nbformat_minor": 2
}
